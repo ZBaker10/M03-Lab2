{
 "cells": [
  {
   "cell_type": "code",
   "execution_count": 4,
   "id": "8e0b7543-3cad-4961-9b91-25a144c3f73d",
   "metadata": {},
   "outputs": [
    {
     "name": "stdout",
     "output_type": "stream",
     "text": [
      "Please enter the details of the car:\n"
     ]
    },
    {
     "name": "stdout",
     "output_type": "stream",
     "text": [
      "Enter the year:  2022\n",
      "Enter the make:  Toyota\n",
      "Enter the model:  Corolla\n",
      "Enter 2 doors or 4 doors:  4\n",
      "Enter sun roof if the car has a sun roof, if not enter solid:  sun roof\n"
     ]
    },
    {
     "name": "stdout",
     "output_type": "stream",
     "text": [
      "\n",
      "Vehicle information:\n",
      "  Vehicle type: car\n",
      "  Year: 2022\n",
      "  Make: Toyota\n",
      "  Model: Corolla\n",
      "  Number of doors: 4\n",
      "  Type of roof: sun roof\n"
     ]
    }
   ],
   "source": [
    "\n",
    "#vehicle super class\n",
    "class Vehicle:\n",
    "    def __init__(self, vehicle_type):\n",
    "        self.vehicle_type = vehicle_type\n",
    "\n",
    "#subclass automoble to seperate it from vehiicle\n",
    "class Automobile(Vehicle):\n",
    "    def __init__(self, year, make, model, doors, roof):\n",
    "        super().__init__('car')  # Automatically setting vehicle_type to 'car'\n",
    "        self.year = year\n",
    "        self.make = make\n",
    "        self.model = model\n",
    "        self.doors = doors\n",
    "        self.roof = roof\n",
    "\n",
    "#get basc information of the car\n",
    "def get_car_info():\n",
    "    print(\"Please enter the details of the car:\")\n",
    "    year = input(\"Enter the year: \")\n",
    "    make = input(\"Enter the make: \")\n",
    "    model = input(\"Enter the model: \")\n",
    "    \n",
    "    #get more in depth details\n",
    "    while True:\n",
    "        try:\n",
    "            doors = int(input(\"Enter 2 doors or 4 doors: \"))\n",
    "            if doors in [2, 4]:\n",
    "                break\n",
    "            else:\n",
    "                print(\"Invalid number of doors. Please enter 2 or 4.\")\n",
    "        except ValueError:\n",
    "            print(\"Please enter a valid number (2 or 4).\")\n",
    "\n",
    "    #sunroof\n",
    "    while True:\n",
    "        roof = input(\"Enter sun roof if the car has a sun roof, if not enter solid: \").lower()\n",
    "        if roof in [\"solid\", \"sun roof\"]:\n",
    "            break\n",
    "        else:\n",
    "            print(\"Invalid roof type. Please enter 'solid' or 'sun roof'.\")\n",
    "    \n",
    "    #create the autobile object\n",
    "    car = Automobile(year, make, model, doors, roof)\n",
    "    \n",
    "    #output the data\n",
    "    print(\"\\nVehicle information:\")\n",
    "    print(f\"  Vehicle type: {car.vehicle_type}\")\n",
    "    print(f\"  Year: {car.year}\")\n",
    "    print(f\"  Make: {car.make}\")\n",
    "    print(f\"  Model: {car.model}\")\n",
    "    print(f\"  Number of doors: {car.doors}\")\n",
    "    print(f\"  Type of roof: {car.roof}\")\n",
    "\n",
    "if __name__ == \"__main__\":\n",
    "    get_car_info()"
   ]
  },
  {
   "cell_type": "code",
   "execution_count": null,
   "id": "15cca380-e696-438e-bcc5-a11812c9d8d9",
   "metadata": {},
   "outputs": [],
   "source": []
  }
 ],
 "metadata": {
  "kernelspec": {
   "display_name": "Python 3 (ipykernel)",
   "language": "python",
   "name": "python3"
  },
  "language_info": {
   "codemirror_mode": {
    "name": "ipython",
    "version": 3
   },
   "file_extension": ".py",
   "mimetype": "text/x-python",
   "name": "python",
   "nbconvert_exporter": "python",
   "pygments_lexer": "ipython3",
   "version": "3.12.4"
  }
 },
 "nbformat": 4,
 "nbformat_minor": 5
}
